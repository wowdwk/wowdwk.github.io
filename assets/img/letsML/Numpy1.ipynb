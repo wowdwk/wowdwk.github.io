{
 "cells": [
  {
   "cell_type": "markdown",
   "id": "865da23e",
   "metadata": {},
   "source": [
    "# 1. Numpy ndarray 개요"
   ]
  },
  {
   "cell_type": "markdown",
   "id": "966a89b3",
   "metadata": {},
   "source": [
    "***"
   ]
  },
  {
   "cell_type": "markdown",
   "id": "de174ea1",
   "metadata": {},
   "source": [
    "### ndarray 생성 np.array()"
   ]
  },
  {
   "cell_type": "code",
   "execution_count": 2,
   "id": "bb083989",
   "metadata": {},
   "outputs": [],
   "source": [
    "import numpy as np"
   ]
  },
  {
   "cell_type": "code",
   "execution_count": 5,
   "id": "3d2ae3bc",
   "metadata": {
    "scrolled": false
   },
   "outputs": [
    {
     "name": "stdout",
     "output_type": "stream",
     "text": [
      "list1 : [1, 2, 3]\n",
      "list1 type : <class 'list'>\n",
      "array1 : [1 2 3]\n",
      "array1 type : <class 'numpy.ndarray'>\n"
     ]
    }
   ],
   "source": [
    "list1 = [1, 2, 3]\n",
    "print(\"list1 : {}\".format(list1))\n",
    "print(\"list1 type : {}\".format(type(list1)))\n",
    "\n",
    "array1 = np.array(list1)\n",
    "print(\"array1 : {}\".format(array1))\n",
    "print(\"array1 type : {}\".format(type(array1)))"
   ]
  },
  {
   "cell_type": "markdown",
   "id": "e216a724",
   "metadata": {},
   "source": [
    "___"
   ]
  },
  {
   "cell_type": "markdown",
   "id": "84b04491",
   "metadata": {},
   "source": [
    "### ndarray의 형태(shape)와 차원"
   ]
  },
  {
   "cell_type": "code",
   "execution_count": 33,
   "id": "d57e0290",
   "metadata": {},
   "outputs": [
    {
     "name": "stdout",
     "output_type": "stream",
     "text": [
      "array1 : [1 2 3]\n",
      "array1 type : <class 'numpy.ndarray'>\n",
      "array1 shape : (3,)\n",
      "array2 : [[1 2 3]\n",
      " [2 3 4]]\n",
      "array2 type : <class 'numpy.ndarray'>\n",
      "array3 shape : (3,)\n",
      "array3 : [[1 2 3]]\n",
      "array3 type : <class 'numpy.ndarray'>\n",
      "array3 shape : (3,)\n"
     ]
    }
   ],
   "source": [
    "list1 = [1, 2, 3]\n",
    "list2 = [2, 3, 4]\n",
    "\n",
    "array1 = np.array(list1)\n",
    "array2 = np.array([list1, list2])\n",
    "array3 = np.array([list1])\n",
    "\n",
    "print(\"array1 : {}\".format(array1))\n",
    "print(\"array1 type : {}\".format(type(array1)))\n",
    "print(\"array1 shape : {}\".format(array1.shape))\n",
    "      \n",
    "print(\"array2 : {}\".format(array2))\n",
    "print(\"array2 type : {}\".format(type(array2)))\n",
    "print(\"array3 shape : {}\".format(array1.shape))\n",
    "      \n",
    "print(\"array3 : {}\".format(array3))\n",
    "print(\"array3 type : {}\".format(type(array3)))\n",
    "print(\"array3 shape : {}\".format(array1.shape))\n",
    "\n"
   ]
  },
  {
   "cell_type": "code",
   "execution_count": 34,
   "id": "5ea00ceb",
   "metadata": {},
   "outputs": [
    {
     "name": "stdout",
     "output_type": "stream",
     "text": [
      "array1 : 1차원\n",
      "array2 : 2차원\n",
      "array3 : 2차원\n"
     ]
    }
   ],
   "source": [
    "print(\"array1 : {}차원\".format(array1.ndim))\n",
    "print(\"array2 : {}차원\".format(array2.ndim))\n",
    "print(\"array3 : {}차원\".format(array3.ndim))"
   ]
  },
  {
   "cell_type": "markdown",
   "id": "eb52a575",
   "metadata": {},
   "source": [
    "___"
   ]
  },
  {
   "cell_type": "markdown",
   "id": "ee4e8f05",
   "metadata": {},
   "source": [
    "### ndarray 데이터 값 타입"
   ]
  },
  {
   "cell_type": "code",
   "execution_count": 35,
   "id": "29b1f2fc",
   "metadata": {},
   "outputs": [
    {
     "name": "stdout",
     "output_type": "stream",
     "text": [
      "array1 type : <class 'numpy.ndarray'>\n",
      "array1 data type : int32\n"
     ]
    }
   ],
   "source": [
    "list1 = [1, 2, 3]\n",
    "array1 = np.array(list1)\n",
    "\n",
    "print(\"array1 type : {}\".format(type(array1)))\n",
    "print(\"array1 data type : {}\".format(array1.dtype))\n"
   ]
  },
  {
   "cell_type": "code",
   "execution_count": 67,
   "id": "e76fcac1",
   "metadata": {},
   "outputs": [
    {
     "name": "stdout",
     "output_type": "stream",
     "text": [
      "['1' '2' 'hi']\n",
      "array2 data type : <U11\n",
      "[3.  4.  5.5]\n",
      "array3 data type : float64\n"
     ]
    }
   ],
   "source": [
    "list2 = [1, 2, \"hi\"]\n",
    "list3 = [3, 4, 5.5]\n",
    "#list에서는 서로 다른 데이터 타입이 포합될 수 있다.\n",
    "\n",
    "array2 = np.array(list2)\n",
    "array3 = np.array(list3)\n",
    "#array에는 서로 다른 데이터 타입이 포함되면 더 크기가 큰 데이터형으로 전체가 변환된다.\n",
    "\n",
    "print(array2)\n",
    "print(\"array2 data type : {}\".format(array2.dtype))\n",
    "\n",
    "      \n",
    "print(array3)\n",
    "print(\"array3 data type : {}\".format(array3.dtype))\n",
    "      "
   ]
  },
  {
   "cell_type": "markdown",
   "id": "ed119ae2",
   "metadata": {},
   "source": [
    "---"
   ]
  },
  {
   "cell_type": "markdown",
   "id": "67a0c7de",
   "metadata": {},
   "source": [
    "### astype()을 통한 타입 변환"
   ]
  },
  {
   "cell_type": "code",
   "execution_count": 66,
   "id": "03054b85",
   "metadata": {},
   "outputs": [
    {
     "name": "stdout",
     "output_type": "stream",
     "text": [
      "array1_int : [1 2 3]\t\tarray1_int data type : int32\n",
      "array1_float : [1. 2. 3.]\tarray1_float data type : float64\n",
      "array1_int32 : [1 2 3]\t\tarray1_int32 data type : int32\n"
     ]
    }
   ],
   "source": [
    "list1 = [1, 2, 3]\n",
    "array1_int = np.array(list1)\n",
    "print(\"array1_int : {}\\t\\tarray1_int data type : {}\".format(array1_int, array1_int.dtype))\n",
    "\n",
    "# array1_int라는 array를 float형으로 바꿔보자\n",
    "# array1_int를 64bits flaot형으로 타입 변환해보도록 하자\n",
    "\n",
    "\n",
    "array1_float = array1_int.astype(\"float64\")\n",
    "print(\"array1_float : {}\\tarray1_float data type : {}\".format(array1_float, array1_float.dtype))\n",
    "\n",
    "# array1_float를 32bits int형으로 타입 변환해보도록 하자\n",
    "\n",
    "array1_int32 = array1_float.astype(\"int32\")\n",
    "print(\"array1_int32 : {}\\t\\tarray1_int32 data type : {}\".format(array1_int32, array1_int32.dtype))"
   ]
  },
  {
   "cell_type": "markdown",
   "id": "7059e891",
   "metadata": {},
   "source": [
    "___"
   ]
  },
  {
   "cell_type": "markdown",
   "id": "8dab7e5a",
   "metadata": {},
   "source": [
    "### ndarray에서 axis 기반의 연산함수 수행"
   ]
  },
  {
   "cell_type": "code",
   "execution_count": 65,
   "id": "afcafb63",
   "metadata": {},
   "outputs": [
    {
     "name": "stdout",
     "output_type": "stream",
     "text": [
      "[[1 2 3]\n",
      " [4 5 6]]\n",
      "array2의 모든 원소 합 : 21\n",
      "행단위로 array2의 원소 합 : [5 7 9]\n",
      "열단위로 array2의 원소 합 : [ 6 15]\n"
     ]
    }
   ],
   "source": [
    "list1 = [1, 2, 3]\n",
    "list2 = [4, 5, 6]\n",
    "\n",
    "array2 = np.array([list1, \n",
    "                   list2])\n",
    "\n",
    "print(array2)\n",
    "\n",
    "# array2에 있는 모든 원소의 합 구하기\n",
    "print(\"array2의 모든 원소 합 : {}\".format(array2.sum()))\n",
    "\n",
    "# 행 단위로 합 구하기\n",
    "print(\"행단위로 array2의 원소 합 : {}\".format(array2.sum(axis=0)))\n",
    "\n",
    "# 열 단위로 합 구하기\n",
    "print(\"열단위로 array2의 원소 합 : {}\".format(array2.sum(axis=1)))\n",
    "\n"
   ]
  },
  {
   "cell_type": "code",
   "execution_count": null,
   "id": "25fbda62",
   "metadata": {},
   "outputs": [],
   "source": []
  }
 ],
 "metadata": {
  "kernelspec": {
   "display_name": "Python 3 (ipykernel)",
   "language": "python",
   "name": "python3"
  },
  "language_info": {
   "codemirror_mode": {
    "name": "ipython",
    "version": 3
   },
   "file_extension": ".py",
   "mimetype": "text/x-python",
   "name": "python",
   "nbconvert_exporter": "python",
   "pygments_lexer": "ipython3",
   "version": "3.9.7"
  }
 },
 "nbformat": 4,
 "nbformat_minor": 5
}
