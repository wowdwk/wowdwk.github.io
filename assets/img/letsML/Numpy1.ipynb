{
 "cells": [
  {
   "cell_type": "markdown",
   "id": "865da23e",
   "metadata": {},
   "source": [
    "# 1. Numpy ndarray"
   ]
  },
  {
   "cell_type": "markdown",
   "id": "966a89b3",
   "metadata": {},
   "source": [
    "***"
   ]
  },
  {
   "cell_type": "markdown",
   "id": "de174ea1",
   "metadata": {},
   "source": [
    "### ndarray 생성 np.array()"
   ]
  },
  {
   "cell_type": "code",
   "execution_count": 78,
   "id": "bb083989",
   "metadata": {},
   "outputs": [],
   "source": [
    "import numpy as np"
   ]
  },
  {
   "cell_type": "code",
   "execution_count": 79,
   "id": "3d2ae3bc",
   "metadata": {
    "scrolled": false
   },
   "outputs": [
    {
     "name": "stdout",
     "output_type": "stream",
     "text": [
      "list1 : [1, 2, 3]\n",
      "list1 type : <class 'list'>\n",
      "array1 : [1 2 3]\n",
      "array1 type : <class 'numpy.ndarray'>\n"
     ]
    }
   ],
   "source": [
    "list1 = [1, 2, 3]\n",
    "print(\"list1 : {}\".format(list1))\n",
    "print(\"list1 type : {}\".format(type(list1)))\n",
    "\n",
    "array1 = np.array(list1)\n",
    "print(\"array1 : {}\".format(array1))\n",
    "print(\"array1 type : {}\".format(type(array1)))"
   ]
  },
  {
   "cell_type": "markdown",
   "id": "e216a724",
   "metadata": {},
   "source": [
    "___"
   ]
  },
  {
   "cell_type": "markdown",
   "id": "84b04491",
   "metadata": {},
   "source": [
    "### ndarray의 형태(shape)와 차원"
   ]
  },
  {
   "cell_type": "code",
   "execution_count": 80,
   "id": "d57e0290",
   "metadata": {},
   "outputs": [
    {
     "name": "stdout",
     "output_type": "stream",
     "text": [
      "array1 : [1 2 3]\n",
      "array1 type : <class 'numpy.ndarray'>\n",
      "array1 shape : (3,)\n",
      "array2 : [[1 2 3]\n",
      " [2 3 4]]\n",
      "array2 type : <class 'numpy.ndarray'>\n",
      "array3 shape : (3,)\n",
      "array3 : [[1 2 3]]\n",
      "array3 type : <class 'numpy.ndarray'>\n",
      "array3 shape : (3,)\n"
     ]
    }
   ],
   "source": [
    "list1 = [1, 2, 3]\n",
    "list2 = [2, 3, 4]\n",
    "\n",
    "array1 = np.array(list1)\n",
    "array2 = np.array([list1, list2])\n",
    "array3 = np.array([list1])\n",
    "\n",
    "print(\"array1 : {}\".format(array1))\n",
    "print(\"array1 type : {}\".format(type(array1)))\n",
    "print(\"array1 shape : {}\".format(array1.shape))\n",
    "      \n",
    "print(\"array2 : {}\".format(array2))\n",
    "print(\"array2 type : {}\".format(type(array2)))\n",
    "print(\"array3 shape : {}\".format(array1.shape))\n",
    "      \n",
    "print(\"array3 : {}\".format(array3))\n",
    "print(\"array3 type : {}\".format(type(array3)))\n",
    "print(\"array3 shape : {}\".format(array1.shape))\n",
    "\n"
   ]
  },
  {
   "cell_type": "code",
   "execution_count": 81,
   "id": "5ea00ceb",
   "metadata": {},
   "outputs": [
    {
     "name": "stdout",
     "output_type": "stream",
     "text": [
      "array1 : 1차원\n",
      "array2 : 2차원\n",
      "array3 : 2차원\n"
     ]
    }
   ],
   "source": [
    "print(\"array1 : {}차원\".format(array1.ndim))\n",
    "print(\"array2 : {}차원\".format(array2.ndim))\n",
    "print(\"array3 : {}차원\".format(array3.ndim))"
   ]
  },
  {
   "cell_type": "markdown",
   "id": "eb52a575",
   "metadata": {},
   "source": [
    "___"
   ]
  },
  {
   "cell_type": "markdown",
   "id": "ee4e8f05",
   "metadata": {},
   "source": [
    "### ndarray 데이터 값 타입"
   ]
  },
  {
   "cell_type": "code",
   "execution_count": 82,
   "id": "29b1f2fc",
   "metadata": {},
   "outputs": [
    {
     "name": "stdout",
     "output_type": "stream",
     "text": [
      "array1 type : <class 'numpy.ndarray'>\n",
      "array1 data type : int32\n"
     ]
    }
   ],
   "source": [
    "list1 = [1, 2, 3]\n",
    "array1 = np.array(list1)\n",
    "\n",
    "print(\"array1 type : {}\".format(type(array1)))\n",
    "print(\"array1 data type : {}\".format(array1.dtype))\n"
   ]
  },
  {
   "cell_type": "code",
   "execution_count": 83,
   "id": "e76fcac1",
   "metadata": {},
   "outputs": [
    {
     "name": "stdout",
     "output_type": "stream",
     "text": [
      "['1' '2' 'hi']\n",
      "array2 data type : <U11\n",
      "[3.  4.  5.5]\n",
      "array3 data type : float64\n"
     ]
    }
   ],
   "source": [
    "list2 = [1, 2, \"hi\"]\n",
    "list3 = [3, 4, 5.5]\n",
    "#list에서는 서로 다른 데이터 타입이 포합될 수 있다.\n",
    "\n",
    "array2 = np.array(list2)\n",
    "array3 = np.array(list3)\n",
    "#array에는 서로 다른 데이터 타입이 포함되면 더 크기가 큰 데이터형으로 전체가 변환된다.\n",
    "\n",
    "print(array2)\n",
    "print(\"array2 data type : {}\".format(array2.dtype))\n",
    "\n",
    "      \n",
    "print(array3)\n",
    "print(\"array3 data type : {}\".format(array3.dtype))\n",
    "      "
   ]
  },
  {
   "cell_type": "markdown",
   "id": "ed119ae2",
   "metadata": {},
   "source": [
    "---"
   ]
  },
  {
   "cell_type": "markdown",
   "id": "67a0c7de",
   "metadata": {},
   "source": [
    "### astype()을 통한 타입 변환"
   ]
  },
  {
   "cell_type": "code",
   "execution_count": 84,
   "id": "03054b85",
   "metadata": {},
   "outputs": [
    {
     "name": "stdout",
     "output_type": "stream",
     "text": [
      "array1_int : [1 2 3]\t\tarray1_int data type : int32\n",
      "array1_float : [1. 2. 3.]\tarray1_float data type : float64\n",
      "array1_int32 : [1 2 3]\t\tarray1_int32 data type : int32\n"
     ]
    }
   ],
   "source": [
    "list1 = [1, 2, 3]\n",
    "array1_int = np.array(list1)\n",
    "print(\"array1_int : {}\\t\\tarray1_int data type : {}\".format(array1_int, array1_int.dtype))\n",
    "\n",
    "# array1_int라는 array를 float형으로 바꿔보자\n",
    "# array1_int를 64bits flaot형으로 타입 변환해보도록 하자\n",
    "\n",
    "\n",
    "array1_float = array1_int.astype(\"float64\")\n",
    "print(\"array1_float : {}\\tarray1_float data type : {}\".format(array1_float, array1_float.dtype))\n",
    "\n",
    "# array1_float를 32bits int형으로 타입 변환해보도록 하자\n",
    "\n",
    "array1_int32 = array1_float.astype(\"int32\")\n",
    "print(\"array1_int32 : {}\\t\\tarray1_int32 data type : {}\".format(array1_int32, array1_int32.dtype))"
   ]
  },
  {
   "cell_type": "markdown",
   "id": "7059e891",
   "metadata": {},
   "source": [
    "___"
   ]
  },
  {
   "cell_type": "markdown",
   "id": "8dab7e5a",
   "metadata": {},
   "source": [
    "### ndarray에서 axis 기반의 연산함수 수행"
   ]
  },
  {
   "cell_type": "code",
   "execution_count": 85,
   "id": "afcafb63",
   "metadata": {},
   "outputs": [
    {
     "name": "stdout",
     "output_type": "stream",
     "text": [
      "[[1 2 3]\n",
      " [4 5 6]]\n",
      "array2의 모든 원소 합 : 21\n",
      "행단위로 array2의 원소 합 : [5 7 9]\n",
      "열단위로 array2의 원소 합 : [ 6 15]\n"
     ]
    }
   ],
   "source": [
    "list1 = [1, 2, 3]\n",
    "list2 = [4, 5, 6]\n",
    "\n",
    "array2 = np.array([list1, \n",
    "                   list2])\n",
    "\n",
    "print(array2)\n",
    "\n",
    "# array2에 있는 모든 원소의 합 구하기\n",
    "print(\"array2의 모든 원소 합 : {}\".format(array2.sum()))\n",
    "\n",
    "# 행 단위로 합 구하기\n",
    "print(\"행단위로 array2의 원소 합 : {}\".format(array2.sum(axis=0)))\n",
    "\n",
    "# 열 단위로 합 구하기\n",
    "print(\"열단위로 array2의 원소 합 : {}\".format(array2.sum(axis=1)))\n",
    "\n"
   ]
  },
  {
   "cell_type": "markdown",
   "id": "85095a6b",
   "metadata": {},
   "source": [
    "___"
   ]
  },
  {
   "cell_type": "markdown",
   "id": "6631ad4f",
   "metadata": {},
   "source": [
    "### ndarray를 편리하게 생성하기 - arange, zeros, ones"
   ]
  },
  {
   "cell_type": "code",
   "execution_count": 86,
   "id": "6fbff108",
   "metadata": {},
   "outputs": [],
   "source": [
    "import numpy as np"
   ]
  },
  {
   "cell_type": "code",
   "execution_count": 87,
   "id": "cf548a70",
   "metadata": {},
   "outputs": [
    {
     "name": "stdout",
     "output_type": "stream",
     "text": [
      "[0 1 2 3 4 5 6 7 8 9]\n",
      "int32 (10,)\n"
     ]
    }
   ],
   "source": [
    "array1 = np.arange(10)\n",
    "print(array1)\n",
    "print(array1.dtype, array1.shape)"
   ]
  },
  {
   "cell_type": "code",
   "execution_count": 88,
   "id": "46dc0a6e",
   "metadata": {},
   "outputs": [
    {
     "name": "stdout",
     "output_type": "stream",
     "text": [
      "[[0 0]\n",
      " [0 0]\n",
      " [0 0]]\n",
      "int32 (3, 2)\n",
      "\n",
      "[[1. 1.]\n",
      " [1. 1.]\n",
      " [1. 1.]]\n",
      "float64 (3, 2)\n"
     ]
    }
   ],
   "source": [
    "zero_array = np.zeros((3, 2), dtype = \"int32\")\n",
    "print(zero_array)\n",
    "print(zero_array.dtype, zero_array.shape)\n",
    "\n",
    "print(\"\")\n",
    "\n",
    "# one_array의 경우 data type을 지정해주지 않았으므로 64bits float형이다.\n",
    "one_array = np.ones((3, 2))\n",
    "print(one_array)\n",
    "print(one_array.dtype, one_array.shape)"
   ]
  },
  {
   "cell_type": "markdown",
   "id": "a95a40a8",
   "metadata": {},
   "source": [
    "___"
   ]
  },
  {
   "cell_type": "markdown",
   "id": "3c9d6fbd",
   "metadata": {},
   "source": [
    "### ndarray의 shape을 변경하는 reshape()"
   ]
  },
  {
   "cell_type": "code",
   "execution_count": 89,
   "id": "92f4a4c2",
   "metadata": {},
   "outputs": [
    {
     "name": "stdout",
     "output_type": "stream",
     "text": [
      "[0 1 2 3 4 5 6 7 8 9]을 (2, 5)로 reshape하면 \n",
      "[[0 1 2 3 4]\n",
      " [5 6 7 8 9]]\n",
      "\n",
      "[0 1 2 3 4 5 6 7 8 9]을 (5, 2)로 reshape하면 \n",
      "[[0 1]\n",
      " [2 3]\n",
      " [4 5]\n",
      " [6 7]\n",
      " [8 9]]\n"
     ]
    }
   ],
   "source": [
    "array1 = np.arange(10)\n",
    "\n",
    "array2 = array1.reshape(2, 5)\n",
    "array3 = array1.reshape(5, 2)\n",
    "\n",
    "print(\"{}을 (2, 5)로 reshape하면 \\n{}\".format(array1, array2))\n",
    "print(\"\")\n",
    "print(\"{}을 (5, 2)로 reshape하면 \\n{}\".format(array1, array3))"
   ]
  },
  {
   "cell_type": "markdown",
   "id": "4099e63f",
   "metadata": {},
   "source": [
    "* 예를 들어서, 8 * 8 pixel의 이미지 파일을 1차원으로 바꿔서 처리해주는 경우가 있다.\n",
    "* 이러한 경우에 reshape()을 이용해서 차원을 변환해줄 수 있다.\n",
    "* 만약 10개의 원소를 가지는 1차원 array를 reshape(4, 3)으로 처리해준다면 error가 발생할 것이다."
   ]
  },
  {
   "cell_type": "code",
   "execution_count": 90,
   "id": "5b5db7e6",
   "metadata": {},
   "outputs": [
    {
     "name": "stdout",
     "output_type": "stream",
     "text": [
      "[0 1 2 3 4 5 6 7 8 9]를 reshape(-1, 5)를 하면\n",
      "[[0 1 2 3 4]\n",
      " [5 6 7 8 9]]\n",
      "\n",
      "[0 1 2 3 4 5 6 7 8 9]를 reshape(5, -1)을 하면\n",
      "[[0 1]\n",
      " [2 3]\n",
      " [4 5]\n",
      " [6 7]\n",
      " [8 9]]\n"
     ]
    }
   ],
   "source": [
    "array1= np.arange(10)\n",
    "array2 = array1.reshape(-1, 5)\n",
    "array3 = array1.reshape(5, -1)\n",
    "\n",
    "print(\"{}를 reshape(-1, 5)를 하면\\n{}\".format(array1, array2))\n",
    "print(\"\")\n",
    "print(\"{}를 reshape(5, -1)을 하면\\n{}\".format(array1, array3))"
   ]
  },
  {
   "cell_type": "markdown",
   "id": "98747bd6",
   "metadata": {},
   "source": [
    "* reshape(-1, n)을 하게 되면 열은 n으로 고정을 한 후에 행을 자동으로 정해서 변환을 해준다.\n",
    "* reshape()안에는 -1이 1개만 있어야한다."
   ]
  },
  {
   "cell_type": "code",
   "execution_count": 91,
   "id": "078ebe3c",
   "metadata": {},
   "outputs": [
    {
     "name": "stdout",
     "output_type": "stream",
     "text": [
      "[0 1 2 3 4]를 2차원으로 변환하기 위해 reshape(-1, 1)을 하면\n",
      "[[0]\n",
      " [1]\n",
      " [2]\n",
      " [3]\n",
      " [4]]\n",
      "\n",
      "[[0]\n",
      " [1]\n",
      " [2]\n",
      " [3]\n",
      " [4]]를 1차원으로 변환하기 위해 reshape(-1,)을 하면\n",
      "[0 1 2 3 4]\n"
     ]
    }
   ],
   "source": [
    "array1 = np.arange(5)\n",
    "\n",
    "array2 = array1.reshape(-1, 1)\n",
    "# 1차원 array를 2차원 array로 변환하되 컬럼 axis가 1이다.\n",
    "\n",
    "array3 = array2.reshape(-1,)\n",
    "# 2차원 array를 1차원 array로 변환\n",
    "\n",
    "print(\"{}를 2차원으로 변환하기 위해 reshape(-1, 1)을 하면\\n{}\".format(array1, array2))\n",
    "print(\"\")\n",
    "print(\"{}를 1차원으로 변환하기 위해 reshape(-1,)을 하면\\n{}\".format(array2, array3))"
   ]
  },
  {
   "cell_type": "markdown",
   "id": "1653508f",
   "metadata": {},
   "source": [
    "* 1차원 -> 2차원 : reshape(-1, 1) \n",
    "* 2차원 -> 1차원 : reshape(-1,)"
   ]
  },
  {
   "cell_type": "markdown",
   "id": "de77bc7a",
   "metadata": {},
   "source": [
    "___"
   ]
  },
  {
   "cell_type": "markdown",
   "id": "ca040435",
   "metadata": {},
   "source": [
    "### ndarray의 데이터 세트 선택하기 - 인덱싱(indexing)"
   ]
  },
  {
   "cell_type": "markdown",
   "id": "1dbac3c6",
   "metadata": {},
   "source": [
    "##### 특정 위치의 단일값 추출"
   ]
  },
  {
   "cell_type": "code",
   "execution_count": 92,
   "id": "d988a58f",
   "metadata": {},
   "outputs": [
    {
     "name": "stdout",
     "output_type": "stream",
     "text": [
      "[1 2 3 4 5 6 7 8 9]\n",
      "array1[2] = 3\n",
      "\n",
      "[1 2 3 4 5 6 7 8 9]\n",
      "array[-1] = array의 맨 뒤의 값 = 9\n",
      "array[-2] = array의 맨 뒤에서 2번째 값 = 8\n"
     ]
    }
   ],
   "source": [
    "# 1에서 9까지의 1차원 ndarray를 생성하자\n",
    "array1 = np.arange(start=1, stop=10)\n",
    "\n",
    "value = array1[2]\n",
    "print(array1)\n",
    "print(\"array1[2] = {}\".format(value))\n",
    "\n",
    "print(\"\")\n",
    "\n",
    "print(array1)\n",
    "print(\"array[-1] = array의 맨 뒤의 값 = {}\".format(array1[-1]))\n",
    "print(\"array[-2] = array의 맨 뒤에서 2번째 값 = {}\".format(array1[-2]))"
   ]
  },
  {
   "cell_type": "code",
   "execution_count": 93,
   "id": "5656673e",
   "metadata": {},
   "outputs": [
    {
     "name": "stdout",
     "output_type": "stream",
     "text": [
      "기존 array1 :      [1 2 3 4 5 6 7 8 9]\n",
      "초기화 후 array1 : [9 2 3 4 5 6 7 8 9]\n"
     ]
    }
   ],
   "source": [
    "print(\"기존 array1 :      {}\".format(array1))\n",
    "\n",
    "array1[0] = 9\n",
    "\n",
    "print(\"초기화 후 array1 : {}\".format(array1))"
   ]
  },
  {
   "cell_type": "markdown",
   "id": "49707090",
   "metadata": {},
   "source": [
    "* array의 원소를 새로운 값으로 초기화할 수 있다."
   ]
  },
  {
   "cell_type": "code",
   "execution_count": 94,
   "id": "3ab9c674",
   "metadata": {},
   "outputs": [
    {
     "name": "stdout",
     "output_type": "stream",
     "text": [
      "[[1 2 3]\n",
      " [4 5 6]\n",
      " [7 8 9]]\n",
      "(row=0, col=0) index 가리키는 값 : 1\n",
      "(row=0, col=1) index 가리키는 값 : 2\n",
      "(row=1, col=0) index 가리키는 값 : 4\n",
      "(row=2, col=2) index 가리키는 값 : 9\n"
     ]
    }
   ],
   "source": [
    "array1d = np.arange(start=1, stop=10)\n",
    "array2d = array1d.reshape(3, 3)\n",
    "print(array2d)\n",
    "\n",
    "print(\"(row=0, col=0) index 가리키는 값 : {}\".format(array2d[0, 0]))\n",
    "print(\"(row=0, col=1) index 가리키는 값 : {}\".format(array2d[0, 1]))\n",
    "print(\"(row=1, col=0) index 가리키는 값 : {}\".format(array2d[1, 0]))\n",
    "print(\"(row=2, col=2) index 가리키는 값 : {}\".format(array2d[2, 2]))"
   ]
  },
  {
   "cell_type": "markdown",
   "id": "30c9394f",
   "metadata": {},
   "source": [
    "___"
   ]
  },
  {
   "cell_type": "markdown",
   "id": "4ebcaadb",
   "metadata": {},
   "source": [
    "### 슬라이싱(Slicing)"
   ]
  },
  {
   "cell_type": "markdown",
   "id": "c228a1f9",
   "metadata": {},
   "source": [
    "##### 특정 범위의 데이터 추출"
   ]
  },
  {
   "cell_type": "code",
   "execution_count": 95,
   "id": "5ac7b97f",
   "metadata": {},
   "outputs": [
    {
     "name": "stdout",
     "output_type": "stream",
     "text": [
      "[1 2 3 4 5 6 7 8 9]\n",
      "[1 2 3]\n",
      "[1 2 3]\n",
      "[4 5 6 7 8 9]\n",
      "[1 2 3 4 5 6 7 8 9]\n"
     ]
    }
   ],
   "source": [
    "array1 = np.arange(start=1, stop=10)\n",
    "print(array1)\n",
    "\n",
    "array3 = array1[0:3]\n",
    "print(array3)\n",
    "\n",
    "array4 = array1[:3]\n",
    "print(array4)\n",
    "\n",
    "array5 = array1[3:]\n",
    "print(array5)\n",
    "\n",
    "array6 = array1[:]\n",
    "print(array6)"
   ]
  },
  {
   "cell_type": "code",
   "execution_count": 96,
   "id": "db034143",
   "metadata": {},
   "outputs": [
    {
     "name": "stdout",
     "output_type": "stream",
     "text": [
      "[1 2 3 4 5 6 7 8 9]\n",
      "\n",
      "[[1 2 3]\n",
      " [4 5 6]\n",
      " [7 8 9]]\n",
      "\n",
      "[[1 2]\n",
      " [4 5]]\n",
      "\n",
      "[7 8]\n",
      "\n",
      "[3 6 9]\n",
      "\n",
      "[5 8]\n"
     ]
    }
   ],
   "source": [
    "array1 = np.arange(start=1, stop=10)\n",
    "print(array1)\n",
    "print(\"\")\n",
    "\n",
    "array2d = array1.reshape(3, 3)\n",
    "print(array2d)\n",
    "print(\"\")\n",
    "\n",
    "print(array2d[0:2, 0:2])\n",
    "print(\"\")\n",
    "\n",
    "print(array2d[2, 0:2])\n",
    "print(\"\")\n",
    "\n",
    "print(array2d[0:3, 2])\n",
    "print(\"\")\n",
    "\n",
    "print(array2d[1:3, 1])\n"
   ]
  },
  {
   "cell_type": "markdown",
   "id": "02971453",
   "metadata": {},
   "source": [
    "___"
   ]
  },
  {
   "cell_type": "markdown",
   "id": "5d4a7d8b",
   "metadata": {},
   "source": [
    "### 팬시 인덱싱(fancy indexing)"
   ]
  },
  {
   "cell_type": "markdown",
   "id": "9223410e",
   "metadata": {},
   "source": [
    "##### 불연속적인 데이터도 불러올 수 있다."
   ]
  },
  {
   "cell_type": "code",
   "execution_count": 97,
   "id": "7139b539",
   "metadata": {
    "scrolled": true
   },
   "outputs": [
    {
     "name": "stdout",
     "output_type": "stream",
     "text": [
      "[[1 2 3]\n",
      " [4 5 6]\n",
      " [7 8 9]]\n",
      "array2d[[0, 1], 2] => [3, 6]\n",
      "array2d[[0, 2], 0:2] => [[1, 2], [7, 8]]\n",
      "array2d[[0, 2], [0, 2]] => [1, 9]\n",
      "array2d[[0, 1], 0:3] => [[1, 2, 3], [4, 5, 6]]\n"
     ]
    }
   ],
   "source": [
    "array1d = np.arange(start=1, stop=10)\n",
    "array2d = array1d.reshape(3, 3)\n",
    "print(array2d)\n",
    "\n",
    "array3 = array2d[[0, 1], 2]\n",
    "print(\"array2d[[0, 1], 2] => {}\".format(array3.tolist()))\n",
    "\n",
    "array4 = array2d[[0, 2], 0:2]\n",
    "print(\"array2d[[0, 2], 0:2] => {}\".format(array4.tolist()))\n",
    "\n",
    "array5 = array2d[[0, 2], [0, 2]]\n",
    "print(\"array2d[[0, 2], [0, 2]] => {}\".format(array5.tolist()))\n",
    "\n",
    "array6 = array2d[[0, 1], 0:3]\n",
    "print(\"array2d[[0, 1], 0:3] => {}\".format(array6.tolist()))"
   ]
  },
  {
   "cell_type": "markdown",
   "id": "662e8a96",
   "metadata": {},
   "source": [
    "***array2d[[0, 2], [0, 2]] => [1, 9]***\n",
    "이 값이 왜 이렇게 나오는지 확인해보자"
   ]
  },
  {
   "cell_type": "markdown",
   "id": "a5ff8b9f",
   "metadata": {},
   "source": [
    "___"
   ]
  },
  {
   "cell_type": "markdown",
   "id": "0ece6d66",
   "metadata": {},
   "source": [
    "### 불린 인덱싱(Boolean indexing)"
   ]
  },
  {
   "cell_type": "code",
   "execution_count": 98,
   "id": "ae13ccdd",
   "metadata": {},
   "outputs": [
    {
     "name": "stdout",
     "output_type": "stream",
     "text": [
      "[1 2 3 4 5 6 7 8 9]\n",
      "\n",
      "[False False False False False  True  True  True  True]\n",
      "var1 : [False False False False False  True  True  True  True]\n",
      "\n",
      "'array1d > 5'로 불린 인덱싱 결과 값 : [6 7 8 9]\n"
     ]
    }
   ],
   "source": [
    "array1 = np.arange(start=1, stop= 10)\n",
    "print(array1)\n",
    "\n",
    "print(\"\")\n",
    "\n",
    "print(array1 > 5)\n",
    "var1 = array1 > 5\n",
    "print(\"var1 : {}\".format(var1))\n",
    "\n",
    "print(\"\")\n",
    "\n",
    "array3 = array1d[array1d > 5]\n",
    "print(\"'array1d > 5'로 불린 인덱싱 결과 값 : {}\".format(array3))"
   ]
  },
  {
   "cell_type": "markdown",
   "id": "5f78889b",
   "metadata": {},
   "source": [
    "* 위와 같은 상황이 발생하는 이유를 확인해보도록 하자"
   ]
  },
  {
   "cell_type": "code",
   "execution_count": 99,
   "id": "96564c98",
   "metadata": {},
   "outputs": [
    {
     "name": "stdout",
     "output_type": "stream",
     "text": [
      "[1 2 3 4 5 6 7 8 9]\n",
      "[False False False False False  True  True  True  True]\n",
      "불린 인덱싱으로 필터링한 결과 : [6 7 8 9]\n"
     ]
    }
   ],
   "source": [
    "array1d = np.arange(start=1, stop=10)\n",
    "print(array1)\n",
    "\n",
    "TorF = np.array([False, False, False, False, False, True, True, True, True])\n",
    "print(TorF)\n",
    "\n",
    "array3 = array1d[TorF]\n",
    "print(\"불린 인덱싱으로 필터링한 결과 : {}\".format(array3))\n",
    "\n"
   ]
  },
  {
   "cell_type": "markdown",
   "id": "1809e103",
   "metadata": {},
   "source": [
    "* array에서 True인 원소들만 추출된다."
   ]
  },
  {
   "cell_type": "code",
   "execution_count": 100,
   "id": "ae02467d",
   "metadata": {},
   "outputs": [
    {
     "name": "stdout",
     "output_type": "stream",
     "text": [
      "[1 2 3 4 5 6 7 8 9]\n",
      "일반 인덱싱으로 필터링한 결과 : [6 7 8 9]\n"
     ]
    }
   ],
   "source": [
    "array1d = np.arange(start=1, stop=10)\n",
    "print(array1d)\n",
    "\n",
    "indexes = np.array([5, 6, 7, 8])\n",
    "array4 = array1d[ indexes ]\n",
    "\n",
    "print(\"일반 인덱싱으로 필터링한 결과 : {}\".format(array4))"
   ]
  },
  {
   "cell_type": "markdown",
   "id": "a51d299b",
   "metadata": {},
   "source": [
    "***아래 코드와 같이 불린 인덱싱을 사용해서 원하는 조건에 있는 데이터를 빠르게 추출할 수 있다.***"
   ]
  },
  {
   "cell_type": "code",
   "execution_count": 101,
   "id": "4b47942a",
   "metadata": {},
   "outputs": [
    {
     "name": "stdout",
     "output_type": "stream",
     "text": [
      "[1 2 3 4 5 6 7 8 9]\n",
      "[6 7 8 9]\n"
     ]
    }
   ],
   "source": [
    "array1d = np.arange(start=1, stop=10)\n",
    "print(array1d)\n",
    "\n",
    "print(array1d[array1d > 5])"
   ]
  },
  {
   "cell_type": "markdown",
   "id": "bbbc1a82",
   "metadata": {},
   "source": [
    "___"
   ]
  },
  {
   "cell_type": "markdown",
   "id": "3dfc9ec2",
   "metadata": {},
   "source": [
    "### 행렬의 정렬 - sort()와 argsort()"
   ]
  },
  {
   "cell_type": "markdown",
   "id": "e7a180b9",
   "metadata": {},
   "source": [
    "#### sort()"
   ]
  },
  {
   "cell_type": "code",
   "execution_count": 105,
   "id": "44027b0f",
   "metadata": {},
   "outputs": [
    {
     "name": "stdout",
     "output_type": "stream",
     "text": [
      "원본 행렬 : [3 1 9 5]\n",
      "\n",
      "np.sort() 호출 후 반환된 정렬 행렬 : [1 3 5 9]\n",
      "np.sort() 호출 후 원본 행렬 : [3 1 9 5]\n",
      "\n",
      "origin.sort() 호출 후 반환된 정렬 행렬 : None\n",
      "origin.sort() 호출 후 원본 행렬 : [1 3 5 9]\n"
     ]
    }
   ],
   "source": [
    "origin = np.array([3, 1, 9, 5])\n",
    "print(\"원본 행렬 : {}\".format(origin))\n",
    "\n",
    "print(\"\")\n",
    "\n",
    "# np.sort()로 정렬\n",
    "sort1 = np.sort(origin)\n",
    "print(\"np.sort() 호출 후 반환된 정렬 행렬 : {}\".format(sort1))\n",
    "print(\"np.sort() 호출 후 원본 행렬 : {}\".format(origin))\n",
    "\n",
    "print(\"\")\n",
    "\n",
    "# ndarray.sort()로 정렬\n",
    "sort2 = origin.sort()\n",
    "print(\"origin.sort() 호출 후 반환된 정렬 행렬 : {}\".format(sort2))\n",
    "print(\"origin.sort() 호출 후 원본 행렬 : {}\".format(origin))\n"
   ]
  },
  {
   "cell_type": "markdown",
   "id": "515fa6dc",
   "metadata": {},
   "source": [
    "* np.sort()      : 원 행렬 ~> 유지  , 반환 행렬 ~> 정렬\n",
    "* ndarray.sort() : 원 행렬 ~> 정렬  , 반환 행렬 ~> None"
   ]
  },
  {
   "cell_type": "code",
   "execution_count": 106,
   "id": "98977df2",
   "metadata": {},
   "outputs": [
    {
     "name": "stdout",
     "output_type": "stream",
     "text": [
      "원본 행렬 : [3 1 9 5]\n",
      "오름차순 정렬된 origin : [1 3 5 9]\n",
      "내림차순 정렬된 origin : [9 5 3 1]\n"
     ]
    }
   ],
   "source": [
    "origin = np.array([3, 1, 9, 5])\n",
    "print(\"원본 행렬 : {}\".format(origin))\n",
    "\n",
    "asend_array = np.sort(origin)\n",
    "print(\"오름차순 정렬된 origin : {}\".format(asend_array))\n",
    "\n",
    "desend_array = np.sort(origin)[::-1]\n",
    "print(\"내림차순 정렬된 origin : {}\".format(desend_array))"
   ]
  },
  {
   "cell_type": "markdown",
   "id": "d2114dd5",
   "metadata": {},
   "source": [
    "* 내림차순 정렬을 위해선 [::-1]을 후미에 붙여준다."
   ]
  },
  {
   "cell_type": "code",
   "execution_count": 117,
   "id": "064ed423",
   "metadata": {},
   "outputs": [
    {
     "name": "stdout",
     "output_type": "stream",
     "text": [
      "원본 행렬 : \n",
      "[[ 8 12]\n",
      " [ 7  1]]\n",
      "\n",
      "row 방향으로 오름차순 정렬 : \n",
      "[[ 7  1]\n",
      " [ 8 12]]\n",
      "\n",
      "col 방향으로 오름차순 정렬 : \n",
      "[[ 8 12]\n",
      " [ 1  7]]\n"
     ]
    }
   ],
   "source": [
    "array2d = np.array([[8, 12],\n",
    "                  [7, 1] ])\n",
    "print(\"원본 행렬 : \\n{}\".format(array2d))\n",
    "\n",
    "print(\"\")\n",
    "\n",
    "\n",
    "sort_array2d_axis0 = np.sort(array2d, axis=0)\n",
    "print(\"row 방향으로 오름차순 정렬 : \\n{}\".format(sort_array2d_axis0))\n",
    "\n",
    "print(\"\")\n",
    "\n",
    "sort_array2d_axis1 = np.sort(array2d, axis=1)\n",
    "print(\"col 방향으로 오름차순 정렬 : \\n{}\".format(sort_array2d_axis1))\n"
   ]
  },
  {
   "cell_type": "markdown",
   "id": "d12df3f7",
   "metadata": {},
   "source": [
    "#### argsort() : 정렬하고 난 후, 반환 값은 해당 원소의 인덱스 번호이다."
   ]
  },
  {
   "cell_type": "code",
   "execution_count": 124,
   "id": "2844e0e7",
   "metadata": {},
   "outputs": [
    {
     "name": "stdout",
     "output_type": "stream",
     "text": [
      "원본 행렬 : [3 1 9 5]\n",
      "오름차순 정렬 시 원본 행렬의 인덱스 : [1 0 3 2]\n",
      "내림차순 정렬 시 원본 행렬의 인덱스 : [2 3 0 1]\n"
     ]
    }
   ],
   "source": [
    "origin = np.array([3, 1, 9, 5])\n",
    "print(\"원본 행렬 : {}\".format(origin))\n",
    "\n",
    "sort1 = np.argsort(origin)\n",
    "print(\"오름차순 정렬 시 원본 행렬의 인덱스 : {}\".format(sort1))\n",
    "\n",
    "sort2 = np.argsort(origin)[::-1] \n",
    "print(\"내림차순 정렬 시 원본 행렬의 인덱스 : {}\".format(sort2))\n"
   ]
  },
  {
   "cell_type": "markdown",
   "id": "358e6e4d",
   "metadata": {},
   "source": [
    "***argsort()가 쓰이는 상황은 Key-Value 형태의 데이터가 주어졌을 때이다.***\n",
    "***John은 70, Mike는 95, Sarah는 84, Kate는 98, Samuel은 88점이다.***\n",
    "***위 상황을 ndarray로 만들고 argsort()를 이용해서 key값(사람)을 점수가 낮은 순으로 정렬해보자***"
   ]
  },
  {
   "cell_type": "code",
   "execution_count": 125,
   "id": "b6791333",
   "metadata": {},
   "outputs": [
    {
     "name": "stdout",
     "output_type": "stream",
     "text": [
      "sort indices : [0 2 4 1 3]\n",
      "학생을 점수가 낮은 순서로 정렬 : ['John' 'Sarah' 'Samuel' 'Mike' 'Kate']\n",
      "그 학생들의 점수를 정렬 : [78 84 88 95 98]\n"
     ]
    }
   ],
   "source": [
    "name_array = np.array([\"John\", \"Mike\", \"Sarah\", \"Kate\", \"Samuel\"])\n",
    "score_array = np.array([78, 95, 84, 98, 88])\n",
    "\n",
    "sort_indices = np.argsort(score_array)\n",
    "print(\"sort indices : {}\".format(sort_indices))\n",
    "\n",
    "name_array_sort = name_array[sort_indices]\n",
    "score_array_sort = score_array[sort_indices]\n",
    "\n",
    "print(\"학생을 점수가 낮은 순서로 정렬 : {}\".format(name_array_sort))\n",
    "print(\"그 학생들의 점수를 정렬 : {}\".format(score_array_sort))\n",
    "\n"
   ]
  },
  {
   "cell_type": "markdown",
   "id": "a85a6e0b",
   "metadata": {},
   "source": [
    "### 선형대수 연산 - 행렬 내적과 전치 행렬"
   ]
  },
  {
   "cell_type": "markdown",
   "id": "6be1e7cf",
   "metadata": {},
   "source": [
    "##### 행렬내적"
   ]
  },
  {
   "cell_type": "code",
   "execution_count": 151,
   "id": "06cae6c4",
   "metadata": {},
   "outputs": [
    {
     "name": "stdout",
     "output_type": "stream",
     "text": [
      "A와 B의 내적 : \n",
      "[[ 58  64]\n",
      " [139 154]]\n"
     ]
    }
   ],
   "source": [
    "A = np.array([[1, 2, 3],\n",
    "             [4, 5, 6]])\n",
    "\n",
    "B = np.array([[7, 8],\n",
    "             [9,  10],\n",
    "             [11,  12]])\n",
    "\n",
    "dot_product = np.dot(A, B)\n",
    "print(\"A와 B의 내적 : \\n{}\".format(dot_product))"
   ]
  },
  {
   "cell_type": "markdown",
   "id": "bd283278",
   "metadata": {},
   "source": [
    "##### 전치 행렬"
   ]
  },
  {
   "cell_type": "code",
   "execution_count": 155,
   "id": "66c51e29",
   "metadata": {},
   "outputs": [
    {
     "name": "stdout",
     "output_type": "stream",
     "text": [
      "A의 원본행렬 : \n",
      "[[1 2]\n",
      " [3 4]]\n",
      "\n",
      "A의 전치행렬 : \n",
      "[[1 3]\n",
      " [2 4]]\n"
     ]
    }
   ],
   "source": [
    "A = np.array([[1, 2], [3, 4]])\n",
    "transpose_mat = np.transpose(A)\n",
    "print(\"A의 원본행렬 : \\n{}\".format(A))\n",
    "\n",
    "print(\"\")\n",
    "\n",
    "print(\"A의 전치행렬 : \\n{}\".format(transpose_mat))"
   ]
  },
  {
   "cell_type": "code",
   "execution_count": null,
   "id": "7939b701",
   "metadata": {},
   "outputs": [],
   "source": []
  }
 ],
 "metadata": {
  "kernelspec": {
   "display_name": "Python 3 (ipykernel)",
   "language": "python",
   "name": "python3"
  },
  "language_info": {
   "codemirror_mode": {
    "name": "ipython",
    "version": 3
   },
   "file_extension": ".py",
   "mimetype": "text/x-python",
   "name": "python",
   "nbconvert_exporter": "python",
   "pygments_lexer": "ipython3",
   "version": "3.9.7"
  }
 },
 "nbformat": 4,
 "nbformat_minor": 5
}
