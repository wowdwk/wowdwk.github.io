{
 "cells": [
  {
   "cell_type": "markdown",
   "id": "0fca7082",
   "metadata": {},
   "source": [
    "### 백준(Baek Joon) 1065 : 한수"
   ]
  },
  {
   "cell_type": "markdown",
   "id": "abf7376b",
   "metadata": {},
   "source": [
    "---"
   ]
  },
  {
   "cell_type": "code",
   "execution_count": 3,
   "id": "5f78193c",
   "metadata": {},
   "outputs": [
    {
     "name": "stdout",
     "output_type": "stream",
     "text": [
      "1000\n",
      "144\n"
     ]
    }
   ],
   "source": [
    "def solve(N) :\n",
    "\n",
    "    steps = []\n",
    "    \n",
    "    if N < 100 :\n",
    "        print(N)\n",
    "\n",
    "    else : \n",
    "     answer = 99\n",
    "\n",
    "     for a in range(100, N+1) :\n",
    "\n",
    "           a = str(a)\n",
    "\n",
    "           for b in range(len(a)-1) :\n",
    "                step = int(a[b]) - int(a[b+1])\n",
    "                steps.append(step)\n",
    "\n",
    "           if steps.count(steps[0]) == len(steps) :\n",
    "               answer += 1\n",
    "            \n",
    "           steps = []\n",
    "\n",
    "     print(answer)\n",
    "\n",
    "n = int(input())\n",
    "solve(n)"
   ]
  },
  {
   "cell_type": "code",
   "execution_count": null,
   "id": "e7775f26",
   "metadata": {},
   "outputs": [],
   "source": []
  },
  {
   "cell_type": "code",
   "execution_count": null,
   "id": "ccd157e0",
   "metadata": {},
   "outputs": [],
   "source": []
  }
 ],
 "metadata": {
  "kernelspec": {
   "display_name": "Python 3 (ipykernel)",
   "language": "python",
   "name": "python3"
  },
  "language_info": {
   "codemirror_mode": {
    "name": "ipython",
    "version": 3
   },
   "file_extension": ".py",
   "mimetype": "text/x-python",
   "name": "python",
   "nbconvert_exporter": "python",
   "pygments_lexer": "ipython3",
   "version": "3.9.7"
  }
 },
 "nbformat": 4,
 "nbformat_minor": 5
}
